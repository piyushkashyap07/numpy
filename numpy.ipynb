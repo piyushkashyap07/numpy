{
 "cells": [
  {
   "cell_type": "code",
   "execution_count": 1,
   "id": "c2a433e5-84b2-4c14-a78a-87755fb36672",
   "metadata": {},
   "outputs": [],
   "source": [
    "import numpy as np"
   ]
  },
  {
   "cell_type": "code",
   "execution_count": 2,
   "id": "a3c97e8b-5896-49ad-806d-a175815a8795",
   "metadata": {},
   "outputs": [],
   "source": [
    "# Difference Between List and Numpy (Time and Space)"
   ]
  },
  {
   "cell_type": "code",
   "execution_count": 3,
   "id": "10872a13-56a7-4349-81e2-92dcb3453f0c",
   "metadata": {},
   "outputs": [
    {
     "name": "stdout",
     "output_type": "stream",
     "text": [
      "[0, 1, 2, 3, 4, 5, 6, 7, 8, 9, 10, 11, 12, 13, 14, 15, 16, 17, 18, 19, 20, 21, 22, 23, 24, 25, 26, 27, 28, 29, 30, 31, 32, 33, 34, 35, 36, 37, 38, 39, 40, 41, 42, 43, 44, 45, 46, 47, 48, 49, 50, 51, 52, 53, 54, 55, 56, 57, 58, 59, 60, 61, 62, 63, 64, 65, 66, 67, 68, 69, 70, 71, 72, 73, 74, 75, 76, 77, 78, 79, 80, 81, 82, 83, 84, 85, 86, 87, 88, 89, 90, 91, 92, 93, 94, 95, 96, 97, 98, 99]\n",
      "[ 0  1  2  3  4  5  6  7  8  9 10 11 12 13 14 15 16 17 18 19 20 21 22 23\n",
      " 24 25 26 27 28 29 30 31 32 33 34 35 36 37 38 39 40 41 42 43 44 45 46 47\n",
      " 48 49 50 51 52 53 54 55 56 57 58 59 60 61 62 63 64 65 66 67 68 69 70 71\n",
      " 72 73 74 75 76 77 78 79 80 81 82 83 84 85 86 87 88 89 90 91 92 93 94 95\n",
      " 96 97 98 99]\n"
     ]
    }
   ],
   "source": [
    "li_arr = [i for i in range(100)]\n",
    "np_arr = np.arange(100)\n",
    "print(li_arr)\n",
    "print(np_arr)\n",
    "\n",
    "\n"
   ]
  },
  {
   "cell_type": "code",
   "execution_count": 7,
   "id": "564a8420-eb74-4789-9ba0-0b94bbd45537",
   "metadata": {},
   "outputs": [
    {
     "name": "stdout",
     "output_type": "stream",
     "text": [
      "4\n",
      "<class 'numpy.dtypes.Int32DType'>\n",
      "400\n"
     ]
    }
   ],
   "source": [
    "#Size of one element in numpy array\n",
    "print(np_arr.itemsize)\n",
    "print(type(np_arr.dtype))\n",
    "##size of 100 elements in  numpy array\n",
    "print(np_arr.itemsize * np_arr.size)\n",
    "\n",
    "\n"
   ]
  },
  {
   "cell_type": "code",
   "execution_count": 5,
   "id": "fffc0765-58d3-4857-a4f1-e34888a0d10a",
   "metadata": {},
   "outputs": [
    {
     "name": "stdout",
     "output_type": "stream",
     "text": [
      "28\n",
      "2800\n"
     ]
    }
   ],
   "source": [
    "import sys\n",
    "##size of one element in list\n",
    "\n",
    "a=10\n",
    "print(sys.getsizeof(a))\n",
    "\n",
    "##size of 100 elements i  list\n",
    "print(sys.getsizeof(1)* len(li_arr))\n",
    "\n",
    "\n",
    "\n",
    "\n"
   ]
  },
  {
   "cell_type": "code",
   "execution_count": 10,
   "id": "7f7ca989-a726-4e76-bbbb-aa15d69c7dca",
   "metadata": {},
   "outputs": [
    {
     "name": "stdout",
     "output_type": "stream",
     "text": [
      "('List =  ', 65.79041481018066)\n",
      "('Numpy =  ', 0.0)\n"
     ]
    }
   ],
   "source": [
    "import time\n",
    "size = 100000\n",
    "\n",
    "def addition_using_list():\n",
    "    t1= time.time()\n",
    "    a= range(size)\n",
    "    b= range(size)\n",
    "    c = [a[i] + b[i] for i in range(size)]\n",
    "    t2 = time.time()\n",
    "    return (t2-t1)\n",
    "\n",
    "def addition_using_numpy():\n",
    "    t1= time.time()\n",
    "    a= np.arange(size)\n",
    "    b= np.arange(size)\n",
    "    c = a+b\n",
    "    t2 = time.time()\n",
    "    return (t2-t1)\n",
    "\n",
    "\n",
    "t_list = addition_using_list()\n",
    "t_numpy = addition_using_numpy()\n",
    "print(('List =  ', t_list *1000))\n",
    "print(('Numpy =  ', t_numpy *1000))\n",
    "\n",
    "\n",
    "\n",
    "\n",
    "\n",
    "\n",
    "\n",
    "\n",
    "\n",
    "\n",
    "\n",
    "     \n",
    "\n",
    "\n",
    "\n"
   ]
  },
  {
   "cell_type": "code",
   "execution_count": 11,
   "id": "7d0f3d15-dc83-4782-9b6d-60e05e0da55c",
   "metadata": {},
   "outputs": [
    {
     "name": "stdout",
     "output_type": "stream",
     "text": [
      "[1 2 3 4]\n",
      "<class 'numpy.ndarray'>\n"
     ]
    }
   ],
   "source": [
    "a= [1,2,3,4]\n",
    "b = np.array(a)\n",
    "print(b)\n",
    "print(type(b))\n",
    "\n",
    "\n"
   ]
  },
  {
   "cell_type": "code",
   "execution_count": 12,
   "id": "8f4e1e0b-7c65-41aa-a23c-ece953835568",
   "metadata": {},
   "outputs": [
    {
     "name": "stdout",
     "output_type": "stream",
     "text": [
      "['1' '2' '3' '4' '3']\n",
      "<class 'numpy.ndarray'>\n"
     ]
    }
   ],
   "source": [
    "a= [1,2,3,4, '3']\n",
    "b = np.array(a)\n",
    "print(b)\n",
    "print(type(b))\n"
   ]
  },
  {
   "cell_type": "code",
   "execution_count": 13,
   "id": "7e5f98ec-7fc0-4c0a-841e-ae3d9f8e3e9b",
   "metadata": {},
   "outputs": [
    {
     "name": "stdout",
     "output_type": "stream",
     "text": [
      "[1 2 3 4 3]\n",
      "<class 'numpy.ndarray'>\n"
     ]
    }
   ],
   "source": [
    "b = np.array(a, dtype = int)\n",
    "print(b)\n",
    "print(type(b))"
   ]
  },
  {
   "cell_type": "code",
   "execution_count": 14,
   "id": "2ca14457-b761-4910-82e6-1c852ce41b06",
   "metadata": {},
   "outputs": [
    {
     "name": "stdout",
     "output_type": "stream",
     "text": [
      "['1' '2' '3' '4' '3' '1' '2' '3' '4' '3' '1' '2' '3' '4' '3']\n",
      "<class 'numpy.ndarray'>\n"
     ]
    }
   ],
   "source": [
    "b = np.array(a*3)\n",
    "print(b)\n",
    "print(type(b))"
   ]
  },
  {
   "cell_type": "code",
   "execution_count": 16,
   "id": "2f03f72c-9a4b-4466-a63c-1a2d7ee2a948",
   "metadata": {},
   "outputs": [
    {
     "data": {
      "text/plain": [
       "array([1., 1., 1.])"
      ]
     },
     "execution_count": 16,
     "metadata": {},
     "output_type": "execute_result"
    }
   ],
   "source": [
    "b= np.ones(3)\n",
    "b\n"
   ]
  },
  {
   "cell_type": "code",
   "execution_count": 17,
   "id": "bb1afe41-1402-43b6-88bb-dfa611373843",
   "metadata": {},
   "outputs": [
    {
     "data": {
      "text/plain": [
       "array([1, 1, 1])"
      ]
     },
     "execution_count": 17,
     "metadata": {},
     "output_type": "execute_result"
    }
   ],
   "source": [
    "b= np.ones(3,dtype=int)\n",
    "b\n"
   ]
  },
  {
   "cell_type": "code",
   "execution_count": 21,
   "id": "77da2d75-5477-4d94-837c-3336b34c6637",
   "metadata": {},
   "outputs": [
    {
     "ename": "TypeError",
     "evalue": "Cannot interpret '4' as a data type",
     "output_type": "error",
     "traceback": [
      "\u001b[1;31m---------------------------------------------------------------------------\u001b[0m",
      "\u001b[1;31mTypeError\u001b[0m                                 Traceback (most recent call last)",
      "Cell \u001b[1;32mIn[21], line 1\u001b[0m\n\u001b[1;32m----> 1\u001b[0m b\u001b[38;5;241m=\u001b[39m \u001b[43mnp\u001b[49m\u001b[38;5;241;43m.\u001b[39;49m\u001b[43mones\u001b[49m\u001b[43m(\u001b[49m\u001b[38;5;241;43m3\u001b[39;49m\u001b[43m,\u001b[49m\u001b[38;5;241;43m4\u001b[39;49m\u001b[43m)\u001b[49m\n\u001b[0;32m      2\u001b[0m b\n",
      "File \u001b[1;32mC:\\Piyush\\Scripts\\Machine-Learning\\ai_ml_test\\Lib\\site-packages\\numpy\\core\\numeric.py:191\u001b[0m, in \u001b[0;36mones\u001b[1;34m(shape, dtype, order, like)\u001b[0m\n\u001b[0;32m    188\u001b[0m \u001b[38;5;28;01mif\u001b[39;00m like \u001b[38;5;129;01mis\u001b[39;00m \u001b[38;5;129;01mnot\u001b[39;00m \u001b[38;5;28;01mNone\u001b[39;00m:\n\u001b[0;32m    189\u001b[0m     \u001b[38;5;28;01mreturn\u001b[39;00m _ones_with_like(like, shape, dtype\u001b[38;5;241m=\u001b[39mdtype, order\u001b[38;5;241m=\u001b[39morder)\n\u001b[1;32m--> 191\u001b[0m a \u001b[38;5;241m=\u001b[39m \u001b[43mempty\u001b[49m\u001b[43m(\u001b[49m\u001b[43mshape\u001b[49m\u001b[43m,\u001b[49m\u001b[43m \u001b[49m\u001b[43mdtype\u001b[49m\u001b[43m,\u001b[49m\u001b[43m \u001b[49m\u001b[43morder\u001b[49m\u001b[43m)\u001b[49m\n\u001b[0;32m    192\u001b[0m multiarray\u001b[38;5;241m.\u001b[39mcopyto(a, \u001b[38;5;241m1\u001b[39m, casting\u001b[38;5;241m=\u001b[39m\u001b[38;5;124m'\u001b[39m\u001b[38;5;124munsafe\u001b[39m\u001b[38;5;124m'\u001b[39m)\n\u001b[0;32m    193\u001b[0m \u001b[38;5;28;01mreturn\u001b[39;00m a\n",
      "\u001b[1;31mTypeError\u001b[0m: Cannot interpret '4' as a data type"
     ]
    }
   ],
   "source": [
    "b= np.ones(3,4)\n",
    "b\n"
   ]
  },
  {
   "cell_type": "code",
   "execution_count": 19,
   "id": "74f7bec0-f74c-4e48-92dd-ca8ceb578af2",
   "metadata": {},
   "outputs": [
    {
     "data": {
      "text/plain": [
       "array([0., 0., 0.])"
      ]
     },
     "execution_count": 19,
     "metadata": {},
     "output_type": "execute_result"
    }
   ],
   "source": [
    "b= np.zeros(3)\n",
    "b\n"
   ]
  },
  {
   "cell_type": "code",
   "execution_count": 20,
   "id": "aea3bd0f-4dae-4121-938e-75c1121bf653",
   "metadata": {},
   "outputs": [
    {
     "ename": "TypeError",
     "evalue": "Cannot interpret '4' as a data type",
     "output_type": "error",
     "traceback": [
      "\u001b[1;31m---------------------------------------------------------------------------\u001b[0m",
      "\u001b[1;31mTypeError\u001b[0m                                 Traceback (most recent call last)",
      "Cell \u001b[1;32mIn[20], line 1\u001b[0m\n\u001b[1;32m----> 1\u001b[0m b\u001b[38;5;241m=\u001b[39m \u001b[43mnp\u001b[49m\u001b[38;5;241;43m.\u001b[39;49m\u001b[43mzeros\u001b[49m\u001b[43m(\u001b[49m\u001b[38;5;241;43m3\u001b[39;49m\u001b[43m,\u001b[49m\u001b[38;5;241;43m4\u001b[39;49m\u001b[43m)\u001b[49m\n\u001b[0;32m      2\u001b[0m b\n",
      "\u001b[1;31mTypeError\u001b[0m: Cannot interpret '4' as a data type"
     ]
    }
   ],
   "source": [
    "b= np.zeros(3,4)\n",
    "b\n"
   ]
  },
  {
   "cell_type": "code",
   "execution_count": 22,
   "id": "072c6c9f-6753-4fbf-985c-3ddb61d2407e",
   "metadata": {},
   "outputs": [
    {
     "data": {
      "text/plain": [
       "array([[0., 0., 0., 0.],\n",
       "       [0., 0., 0., 0.],\n",
       "       [0., 0., 0., 0.]])"
      ]
     },
     "execution_count": 22,
     "metadata": {},
     "output_type": "execute_result"
    }
   ],
   "source": [
    "b= np.zeros((3,4))\n",
    "b"
   ]
  },
  {
   "cell_type": "code",
   "execution_count": 23,
   "id": "55d2422b-328b-453f-b44b-1c033fac693c",
   "metadata": {},
   "outputs": [
    {
     "data": {
      "text/plain": [
       "array([[1., 1., 1., 1.],\n",
       "       [1., 1., 1., 1.],\n",
       "       [1., 1., 1., 1.]])"
      ]
     },
     "execution_count": 23,
     "metadata": {},
     "output_type": "execute_result"
    }
   ],
   "source": [
    "b= np.ones((3,4))\n",
    "b\n"
   ]
  },
  {
   "cell_type": "code",
   "execution_count": 25,
   "id": "5baa9687-88e3-426d-908a-5a0eb7f9ee10",
   "metadata": {},
   "outputs": [
    {
     "data": {
      "text/plain": [
       "array([[5, 5, 5, 5],\n",
       "       [5, 5, 5, 5],\n",
       "       [5, 5, 5, 5]])"
      ]
     },
     "execution_count": 25,
     "metadata": {},
     "output_type": "execute_result"
    }
   ],
   "source": [
    "b= np.full((3,4), 5)\n",
    "b\n"
   ]
  },
  {
   "cell_type": "code",
   "execution_count": 26,
   "id": "44c9be8a-8230-4693-90d0-16ad4a089b4a",
   "metadata": {},
   "outputs": [
    {
     "data": {
      "text/plain": [
       "array([ 0,  1,  2,  3,  4,  5,  6,  7,  8,  9, 10, 11, 12, 13, 14, 15, 16,\n",
       "       17, 18, 19, 20, 21, 22, 23, 24, 25, 26, 27, 28, 29, 30, 31, 32, 33,\n",
       "       34, 35, 36, 37, 38, 39, 40, 41, 42, 43, 44, 45, 46, 47, 48, 49, 50,\n",
       "       51, 52, 53, 54, 55, 56, 57, 58, 59, 60, 61, 62, 63, 64, 65, 66, 67,\n",
       "       68, 69, 70, 71, 72, 73, 74, 75, 76, 77, 78, 79, 80, 81, 82, 83, 84,\n",
       "       85, 86, 87, 88, 89, 90, 91, 92, 93, 94, 95, 96, 97, 98, 99])"
      ]
     },
     "execution_count": 26,
     "metadata": {},
     "output_type": "execute_result"
    }
   ],
   "source": [
    "b= np.arange(0,100)\n",
    "b\n"
   ]
  },
  {
   "cell_type": "code",
   "execution_count": 27,
   "id": "4f4ade1e-6c25-4ec8-9685-ac6c9aaa09e5",
   "metadata": {},
   "outputs": [
    {
     "data": {
      "text/plain": [
       "array([ 0,  3,  6,  9, 12, 15, 18, 21, 24, 27, 30, 33, 36, 39, 42, 45, 48,\n",
       "       51, 54, 57, 60, 63, 66, 69, 72, 75, 78, 81, 84, 87, 90, 93, 96, 99])"
      ]
     },
     "execution_count": 27,
     "metadata": {},
     "output_type": "execute_result"
    }
   ],
   "source": [
    "b= np.arange(0,100,3)\n",
    "b"
   ]
  },
  {
   "cell_type": "code",
   "execution_count": 30,
   "id": "16d51fdd-3477-42c6-95a6-0c422fd44e76",
   "metadata": {},
   "outputs": [
    {
     "data": {
      "text/plain": [
       "array([  0,   3,   6,  10,  13,  17,  20,  24,  27,  31,  34,  37,  41,\n",
       "        44,  48,  51,  55,  58,  62,  65,  68,  72,  75,  79,  82,  86,\n",
       "        89,  93,  96, 100])"
      ]
     },
     "execution_count": 30,
     "metadata": {},
     "output_type": "execute_result"
    }
   ],
   "source": [
    "b= np.linspace(0,100,30, dtype= int)\n",
    "b"
   ]
  },
  {
   "cell_type": "code",
   "execution_count": null,
   "id": "7cb7e6c7-faa0-41fb-be01-5cb270e956e2",
   "metadata": {},
   "outputs": [],
   "source": []
  }
 ],
 "metadata": {
  "kernelspec": {
   "display_name": "Python 3 (ipykernel)",
   "language": "python",
   "name": "python3"
  },
  "language_info": {
   "codemirror_mode": {
    "name": "ipython",
    "version": 3
   },
   "file_extension": ".py",
   "mimetype": "text/x-python",
   "name": "python",
   "nbconvert_exporter": "python",
   "pygments_lexer": "ipython3",
   "version": "3.11.7"
  }
 },
 "nbformat": 4,
 "nbformat_minor": 5
}
